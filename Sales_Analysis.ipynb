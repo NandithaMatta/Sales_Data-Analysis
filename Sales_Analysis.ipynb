{
 "cells": [
  {
   "cell_type": "code",
   "execution_count": null,
   "id": "3d2d7a6c",
   "metadata": {},
   "outputs": [],
   "source": [
    "# NUMPY - Python library used for working with arrays\n",
    "# PANDAS - It can be used to perform data manipulation and cleaning\n",
    "# MATPLOTLIB - It is utilized for making basic graphs\n",
    "# SEABORN - Seaborn contains a number of patterns and plots for data visualization\n"
   ]
  },
  {
   "cell_type": "code",
   "execution_count": null,
   "id": "45532042",
   "metadata": {},
   "outputs": [],
   "source": [
    "!pip install numpy"
   ]
  },
  {
   "cell_type": "code",
   "execution_count": null,
   "id": "d497d98a",
   "metadata": {},
   "outputs": [],
   "source": [
    "import numpy as np\n",
    "import pandas as pd\n",
    "import matplotlib.pyplot as plt\n",
    "import seaborn as sns"
   ]
  },
  {
   "cell_type": "code",
   "execution_count": null,
   "id": "1eef9090",
   "metadata": {},
   "outputs": [],
   "source": [
    "df = pd.read_csv('/Users/nandithamatta/Desktop/DA Projects/Python_Amazon_Sales_Analysis-main/Amazon Sale Report.csv', encoding = 'unicode_escape')"
   ]
  },
  {
   "cell_type": "code",
   "execution_count": null,
   "id": "bb391b3d",
   "metadata": {},
   "outputs": [],
   "source": [
    "df.shape"
   ]
  },
  {
   "cell_type": "code",
   "execution_count": null,
   "id": "306f83e1",
   "metadata": {},
   "outputs": [],
   "source": [
    "df.head(2)"
   ]
  },
  {
   "cell_type": "code",
   "execution_count": null,
   "id": "1df6a991",
   "metadata": {},
   "outputs": [],
   "source": [
    "df.tail(2)"
   ]
  },
  {
   "cell_type": "code",
   "execution_count": null,
   "id": "35e8ff63",
   "metadata": {},
   "outputs": [],
   "source": [
    "df.info()"
   ]
  },
  {
   "cell_type": "code",
   "execution_count": null,
   "id": "a2cff6b4",
   "metadata": {},
   "outputs": [],
   "source": [
    "df.drop(['New', 'PendingS'],axis=1, inplace = True)"
   ]
  },
  {
   "cell_type": "code",
   "execution_count": null,
   "id": "5b336747",
   "metadata": {},
   "outputs": [],
   "source": [
    "df.info()"
   ]
  },
  {
   "cell_type": "code",
   "execution_count": null,
   "id": "b892ea14",
   "metadata": {},
   "outputs": [],
   "source": [
    "pd.isnull(df).sum()\n"
   ]
  },
  {
   "cell_type": "code",
   "execution_count": null,
   "id": "7ea826d3",
   "metadata": {},
   "outputs": [],
   "source": [
    "df.shape"
   ]
  },
  {
   "cell_type": "code",
   "execution_count": null,
   "id": "26c880c1",
   "metadata": {},
   "outputs": [],
   "source": [
    "df.dropna(inplace=True)"
   ]
  },
  {
   "cell_type": "code",
   "execution_count": null,
   "id": "ea11f867",
   "metadata": {},
   "outputs": [],
   "source": [
    "df.shape"
   ]
  },
  {
   "cell_type": "code",
   "execution_count": null,
   "id": "072bf573",
   "metadata": {},
   "outputs": [],
   "source": [
    "df.columns"
   ]
  },
  {
   "cell_type": "code",
   "execution_count": null,
   "id": "0457cc91",
   "metadata": {},
   "outputs": [],
   "source": [
    "df['ship-postal-code']= df['ship-postal-code'].astype('int')"
   ]
  },
  {
   "cell_type": "code",
   "execution_count": null,
   "id": "38cd86fe",
   "metadata": {},
   "outputs": [],
   "source": [
    "df['ship-postal-code'].dtype"
   ]
  },
  {
   "cell_type": "code",
   "execution_count": null,
   "id": "5c393622",
   "metadata": {},
   "outputs": [],
   "source": [
    "df['Date']=pd.to_datetime(df['Date'])"
   ]
  },
  {
   "cell_type": "code",
   "execution_count": null,
   "id": "613023da",
   "metadata": {},
   "outputs": [],
   "source": [
    "df.info()"
   ]
  },
  {
   "cell_type": "code",
   "execution_count": null,
   "id": "496a6cbf",
   "metadata": {},
   "outputs": [],
   "source": [
    "df.rename(columns={'Qty' : 'Quantity'}, inplace=True)"
   ]
  },
  {
   "cell_type": "code",
   "execution_count": null,
   "id": "7dd99328",
   "metadata": {},
   "outputs": [],
   "source": [
    "df.info()"
   ]
  },
  {
   "cell_type": "code",
   "execution_count": null,
   "id": "7479678a",
   "metadata": {},
   "outputs": [],
   "source": [
    "df.describe()"
   ]
  },
  {
   "cell_type": "code",
   "execution_count": null,
   "id": "b3aa7f64",
   "metadata": {},
   "outputs": [],
   "source": [
    "df.describe(include='object')"
   ]
  },
  {
   "cell_type": "code",
   "execution_count": null,
   "id": "b959db76",
   "metadata": {},
   "outputs": [],
   "source": [
    "df[['Quantity','Amount']].describe()"
   ]
  },
  {
   "cell_type": "code",
   "execution_count": null,
   "id": "b1cb4847",
   "metadata": {},
   "outputs": [],
   "source": [
    "#EXPLORATORY DATA ANALYSIS"
   ]
  },
  {
   "cell_type": "code",
   "execution_count": null,
   "id": "9f594d54",
   "metadata": {},
   "outputs": [],
   "source": [
    "df.columns"
   ]
  },
  {
   "cell_type": "code",
   "execution_count": null,
   "id": "b8d13e6a",
   "metadata": {},
   "outputs": [],
   "source": [
    "ax=sns.countplot(x='Size', data=df)"
   ]
  },
  {
   "cell_type": "code",
   "execution_count": null,
   "id": "b2d34ee7",
   "metadata": {},
   "outputs": [],
   "source": [
    "ax=sns.countplot(x='Size', data=df)\n",
    "for bars in ax.containers:\n",
    "    ax.bar_label(bars)"
   ]
  },
  {
   "cell_type": "code",
   "execution_count": null,
   "id": "382dab68",
   "metadata": {},
   "outputs": [],
   "source": [
    "#GROUPBY\n",
    "df.groupby(['Size'], as_index=False)['Quantity'].sum().sort_values(by='Quantity',ascending=False)"
   ]
  },
  {
   "cell_type": "code",
   "execution_count": null,
   "id": "fc5f6f31",
   "metadata": {},
   "outputs": [],
   "source": [
    "S_Qty= df.groupby(['Size'], as_index=False)['Quantity'].sum().sort_values(by='Quantity',ascending=False)\n",
    "\n",
    "sns.barplot(x='Size', y='Quantity', data=S_Qty)"
   ]
  },
  {
   "cell_type": "code",
   "execution_count": null,
   "id": "3fce5e98",
   "metadata": {},
   "outputs": [],
   "source": [
    "#COURIER STATUS"
   ]
  },
  {
   "cell_type": "code",
   "execution_count": null,
   "id": "ba9124c6",
   "metadata": {},
   "outputs": [],
   "source": [
    "sns.countplot(data=df, x='Courier Status', hue='Status')"
   ]
  },
  {
   "cell_type": "code",
   "execution_count": null,
   "id": "419c4d78",
   "metadata": {},
   "outputs": [],
   "source": [
    "plt.figure(figsize=(10,5))\n",
    "ax=sns.countplot(data=df, x='Courier Status', hue='Status')\n",
    "plt.show()"
   ]
  },
  {
   "cell_type": "code",
   "execution_count": null,
   "id": "9eeb60af",
   "metadata": {},
   "outputs": [],
   "source": [
    "#HISTOGRAM\n",
    "df['Size'].hist()"
   ]
  },
  {
   "cell_type": "code",
   "execution_count": null,
   "id": "7beda757",
   "metadata": {},
   "outputs": [],
   "source": [
    "df['Category']=df['Category'].astype(str)\n",
    "column_data = df['Category']\n",
    "plt.figure(figsize=(10,5))\n",
    "plt.hist(column_data,bins=30, edgecolor='Black')\n",
    "plt.xticks(rotation=90)\n",
    "plt.show()"
   ]
  },
  {
   "cell_type": "code",
   "execution_count": null,
   "id": "18d6d892",
   "metadata": {},
   "outputs": [],
   "source": []
  },
  {
   "cell_type": "code",
   "execution_count": null,
   "id": "9367c075",
   "metadata": {},
   "outputs": [],
   "source": [
    "#Checking B2B DATA [THAT TSHIRT HAS MOST OF THE BUYERS ]"
   ]
  },
  {
   "cell_type": "code",
   "execution_count": null,
   "id": "74453919",
   "metadata": {},
   "outputs": [],
   "source": [
    "B2B_Check= df['B2B'].value_counts()\n",
    "\n",
    "#Plot the pie chart\n",
    "plt.pie(B2B_Check, labels=B2B_Check, autopct = '%1.1f%%')\n",
    "plt.show()"
   ]
  },
  {
   "cell_type": "code",
   "execution_count": null,
   "id": "a6c5e699",
   "metadata": {},
   "outputs": [],
   "source": [
    "B2B_Check= df['B2B'].value_counts()\n",
    "\n",
    "#Plot the pie chart\n",
    "plt.pie(B2B_Check, labels=B2B_Check.index, autopct = '%1.1f%%')\n",
    "plt.show()"
   ]
  },
  {
   "cell_type": "code",
   "execution_count": null,
   "id": "246094ce",
   "metadata": {},
   "outputs": [],
   "source": [
    "#From the above chart we can see maximum i.e, 99.2% of buyers are retailers and 0.8% are buyers"
   ]
  },
  {
   "cell_type": "code",
   "execution_count": null,
   "id": "13ca9534",
   "metadata": {},
   "outputs": [],
   "source": [
    "#SCATTER PLOT (using for category and size)\n",
    "x_data = df['Category']\n",
    "y_data = df['Size']\n",
    "\n",
    "plt.scatter(x_data, y_data)\n",
    "plt.xlabel('Category')\n",
    "plt.ylabel('Size')\n",
    "plt.title('Scatter Plot')\n",
    "plt.show()"
   ]
  },
  {
   "cell_type": "code",
   "execution_count": null,
   "id": "5a55bb7a",
   "metadata": {},
   "outputs": [],
   "source": [
    "#Plot count of cities by state\n",
    "plt.figure(figsize=(10,5))\n",
    "sns.countplot(data=df, x='ship-state')\n",
    "plt.xlabel('ship_data')\n",
    "plt.ylabel('count')\n",
    "plt.title('Distribution of State')\n",
    "plt.xticks(rotation=90)\n",
    "plt.show()"
   ]
  },
  {
   "cell_type": "code",
   "execution_count": null,
   "id": "37ddaa43",
   "metadata": {},
   "outputs": [],
   "source": [
    "#top 10 states\n",
    "top_10_state = df['ship-state'].value_counts().head(10)\n",
    "plt.figure(figsize=(10,5))\n",
    "sns.countplot(data=df[df['ship-state'].isin(top_10_state.index)], x='ship-state')\n",
    "plt.xlabel('ship-state')\n",
    "plt.ylabel('count')\n",
    "plt.title('Distribution of state')\n",
    "plt.xticks(rotation=60)\n",
    "plt.show()"
   ]
  },
  {
   "cell_type": "code",
   "execution_count": null,
   "id": "fbd4f5af",
   "metadata": {},
   "outputs": [],
   "source": []
  }
 ],
 "metadata": {
  "kernelspec": {
   "display_name": "Python 3 (ipykernel)",
   "language": "python",
   "name": "python3"
  },
  "language_info": {
   "codemirror_mode": {
    "name": "ipython",
    "version": 3
   },
   "file_extension": ".py",
   "mimetype": "text/x-python",
   "name": "python",
   "nbconvert_exporter": "python",
   "pygments_lexer": "ipython3",
   "version": "3.11.3"
  }
 },
 "nbformat": 4,
 "nbformat_minor": 5
}
